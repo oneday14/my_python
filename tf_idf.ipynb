{
  "nbformat": 4,
  "nbformat_minor": 0,
  "metadata": {
    "colab": {
      "provenance": [],
      "authorship_tag": "ABX9TyOKvqL8vPGCg9Gh7KthGkxQ"
    },
    "kernelspec": {
      "name": "python3",
      "display_name": "Python 3"
    },
    "language_info": {
      "name": "python"
    }
  },
  "cells": [
    {
      "cell_type": "code",
      "execution_count": 4,
      "metadata": {
        "colab": {
          "base_uri": "https://localhost:8080/"
        },
        "id": "4azBYP4_8vP0",
        "outputId": "6eabfbdc-6fdd-4ded-c0af-fb5d440125c6"
      },
      "outputs": [
        {
          "output_type": "stream",
          "name": "stdout",
          "text": [
            "['과일이', '길고', '노란', '먹고', '바나나', '사과', '싶은', '저는', '좋아요']\n"
          ]
        }
      ],
      "source": [
        "import pandas as pd\n",
        "from math import log\n",
        "\n",
        "docs = [\n",
        "    '먹고 싶은 사과'\n",
        "    ,'먹고 싶은 바나나'\n",
        "    ,'길고 노란 바나나 바나나',\n",
        "    '저는 과일이 좋아요'\n",
        "]\n",
        "vocab = list(set([word for doc in docs for word in doc.split(' ')]))\n",
        "vocab.sort()\n",
        "print(vocab)"
      ]
    },
    {
      "cell_type": "code",
      "source": [
        "tf = pd.DataFrame()\n",
        "\n",
        "for v in vocab:\n",
        "  lst_cnt = []\n",
        "  \n",
        "  for doc in docs:\n",
        "    cnt = 0\n",
        "    if v in doc:\n",
        "      cnt += doc.count(v)\n",
        "    lst_cnt.append(cnt)\n",
        "\n",
        "  tf[v] = lst_cnt\n",
        "\n",
        "print(tf)"
      ],
      "metadata": {
        "colab": {
          "base_uri": "https://localhost:8080/"
        },
        "id": "FhVojVnQ-whF",
        "outputId": "11ba30c9-5b5e-40b3-eb7e-cb08c2b22d3c"
      },
      "execution_count": 6,
      "outputs": [
        {
          "output_type": "stream",
          "name": "stdout",
          "text": [
            "   과일이  길고  노란  먹고  바나나  사과  싶은  저는  좋아요\n",
            "0    0   0   0   1    0   1   1   0    0\n",
            "1    0   0   0   1    1   0   1   0    0\n",
            "2    0   1   1   0    2   0   0   0    0\n",
            "3    1   0   0   0    0   0   0   1    1\n"
          ]
        }
      ]
    },
    {
      "cell_type": "code",
      "source": [
        "lst_cnt = []\n",
        "for v in vocab:\n",
        "  cnt = 0\n",
        "  for doc in docs:\n",
        "    if v in doc:\n",
        "      cnt += 1\n",
        "  lst_cnt.append(cnt)\n",
        "\n",
        "lst_idf = list(map(lambda x:log(len(docs)/(x+1)), lst_cnt))\n",
        "idf = pd.Series(lst_idf)\n",
        "idf.index = vocab\n",
        "print(idf)"
      ],
      "metadata": {
        "colab": {
          "base_uri": "https://localhost:8080/"
        },
        "id": "oIevRJZuAUBx",
        "outputId": "d9c25860-8840-4d30-9942-5a0fe9854c14"
      },
      "execution_count": 40,
      "outputs": [
        {
          "output_type": "stream",
          "name": "stdout",
          "text": [
            "과일이    0.693147\n",
            "길고     0.693147\n",
            "노란     0.693147\n",
            "먹고     0.287682\n",
            "바나나    0.287682\n",
            "사과     0.693147\n",
            "싶은     0.287682\n",
            "저는     0.693147\n",
            "좋아요    0.693147\n",
            "dtype: float64\n"
          ]
        }
      ]
    },
    {
      "cell_type": "code",
      "source": [
        "# print(idf.T.reset_index())\n",
        "df.mul(idf) # df * idf 도 가능"
      ],
      "metadata": {
        "colab": {
          "base_uri": "https://localhost:8080/",
          "height": 174
        },
        "id": "cljio9exCHNd",
        "outputId": "5a72021e-5323-41fe-9df8-a6e1f1fe4f0f"
      },
      "execution_count": 42,
      "outputs": [
        {
          "output_type": "execute_result",
          "data": {
            "text/plain": [
              "        과일이        길고        노란        먹고       바나나        사과        싶은  \\\n",
              "0  0.000000  0.000000  0.000000  0.287682  0.000000  0.693147  0.287682   \n",
              "1  0.000000  0.000000  0.000000  0.287682  0.287682  0.000000  0.287682   \n",
              "2  0.000000  0.693147  0.693147  0.000000  0.575364  0.000000  0.000000   \n",
              "3  0.693147  0.000000  0.000000  0.000000  0.000000  0.000000  0.000000   \n",
              "\n",
              "         저는       좋아요  \n",
              "0  0.000000  0.000000  \n",
              "1  0.000000  0.000000  \n",
              "2  0.000000  0.000000  \n",
              "3  0.693147  0.693147  "
            ],
            "text/html": [
              "\n",
              "  <div id=\"df-4b57f64a-8bc5-4701-9039-b17fee90f610\">\n",
              "    <div class=\"colab-df-container\">\n",
              "      <div>\n",
              "<style scoped>\n",
              "    .dataframe tbody tr th:only-of-type {\n",
              "        vertical-align: middle;\n",
              "    }\n",
              "\n",
              "    .dataframe tbody tr th {\n",
              "        vertical-align: top;\n",
              "    }\n",
              "\n",
              "    .dataframe thead th {\n",
              "        text-align: right;\n",
              "    }\n",
              "</style>\n",
              "<table border=\"1\" class=\"dataframe\">\n",
              "  <thead>\n",
              "    <tr style=\"text-align: right;\">\n",
              "      <th></th>\n",
              "      <th>과일이</th>\n",
              "      <th>길고</th>\n",
              "      <th>노란</th>\n",
              "      <th>먹고</th>\n",
              "      <th>바나나</th>\n",
              "      <th>사과</th>\n",
              "      <th>싶은</th>\n",
              "      <th>저는</th>\n",
              "      <th>좋아요</th>\n",
              "    </tr>\n",
              "  </thead>\n",
              "  <tbody>\n",
              "    <tr>\n",
              "      <th>0</th>\n",
              "      <td>0.000000</td>\n",
              "      <td>0.000000</td>\n",
              "      <td>0.000000</td>\n",
              "      <td>0.287682</td>\n",
              "      <td>0.000000</td>\n",
              "      <td>0.693147</td>\n",
              "      <td>0.287682</td>\n",
              "      <td>0.000000</td>\n",
              "      <td>0.000000</td>\n",
              "    </tr>\n",
              "    <tr>\n",
              "      <th>1</th>\n",
              "      <td>0.000000</td>\n",
              "      <td>0.000000</td>\n",
              "      <td>0.000000</td>\n",
              "      <td>0.287682</td>\n",
              "      <td>0.287682</td>\n",
              "      <td>0.000000</td>\n",
              "      <td>0.287682</td>\n",
              "      <td>0.000000</td>\n",
              "      <td>0.000000</td>\n",
              "    </tr>\n",
              "    <tr>\n",
              "      <th>2</th>\n",
              "      <td>0.000000</td>\n",
              "      <td>0.693147</td>\n",
              "      <td>0.693147</td>\n",
              "      <td>0.000000</td>\n",
              "      <td>0.575364</td>\n",
              "      <td>0.000000</td>\n",
              "      <td>0.000000</td>\n",
              "      <td>0.000000</td>\n",
              "      <td>0.000000</td>\n",
              "    </tr>\n",
              "    <tr>\n",
              "      <th>3</th>\n",
              "      <td>0.693147</td>\n",
              "      <td>0.000000</td>\n",
              "      <td>0.000000</td>\n",
              "      <td>0.000000</td>\n",
              "      <td>0.000000</td>\n",
              "      <td>0.000000</td>\n",
              "      <td>0.000000</td>\n",
              "      <td>0.693147</td>\n",
              "      <td>0.693147</td>\n",
              "    </tr>\n",
              "  </tbody>\n",
              "</table>\n",
              "</div>\n",
              "      <button class=\"colab-df-convert\" onclick=\"convertToInteractive('df-4b57f64a-8bc5-4701-9039-b17fee90f610')\"\n",
              "              title=\"Convert this dataframe to an interactive table.\"\n",
              "              style=\"display:none;\">\n",
              "        \n",
              "  <svg xmlns=\"http://www.w3.org/2000/svg\" height=\"24px\"viewBox=\"0 0 24 24\"\n",
              "       width=\"24px\">\n",
              "    <path d=\"M0 0h24v24H0V0z\" fill=\"none\"/>\n",
              "    <path d=\"M18.56 5.44l.94 2.06.94-2.06 2.06-.94-2.06-.94-.94-2.06-.94 2.06-2.06.94zm-11 1L8.5 8.5l.94-2.06 2.06-.94-2.06-.94L8.5 2.5l-.94 2.06-2.06.94zm10 10l.94 2.06.94-2.06 2.06-.94-2.06-.94-.94-2.06-.94 2.06-2.06.94z\"/><path d=\"M17.41 7.96l-1.37-1.37c-.4-.4-.92-.59-1.43-.59-.52 0-1.04.2-1.43.59L10.3 9.45l-7.72 7.72c-.78.78-.78 2.05 0 2.83L4 21.41c.39.39.9.59 1.41.59.51 0 1.02-.2 1.41-.59l7.78-7.78 2.81-2.81c.8-.78.8-2.07 0-2.86zM5.41 20L4 18.59l7.72-7.72 1.47 1.35L5.41 20z\"/>\n",
              "  </svg>\n",
              "      </button>\n",
              "      \n",
              "  <style>\n",
              "    .colab-df-container {\n",
              "      display:flex;\n",
              "      flex-wrap:wrap;\n",
              "      gap: 12px;\n",
              "    }\n",
              "\n",
              "    .colab-df-convert {\n",
              "      background-color: #E8F0FE;\n",
              "      border: none;\n",
              "      border-radius: 50%;\n",
              "      cursor: pointer;\n",
              "      display: none;\n",
              "      fill: #1967D2;\n",
              "      height: 32px;\n",
              "      padding: 0 0 0 0;\n",
              "      width: 32px;\n",
              "    }\n",
              "\n",
              "    .colab-df-convert:hover {\n",
              "      background-color: #E2EBFA;\n",
              "      box-shadow: 0px 1px 2px rgba(60, 64, 67, 0.3), 0px 1px 3px 1px rgba(60, 64, 67, 0.15);\n",
              "      fill: #174EA6;\n",
              "    }\n",
              "\n",
              "    [theme=dark] .colab-df-convert {\n",
              "      background-color: #3B4455;\n",
              "      fill: #D2E3FC;\n",
              "    }\n",
              "\n",
              "    [theme=dark] .colab-df-convert:hover {\n",
              "      background-color: #434B5C;\n",
              "      box-shadow: 0px 1px 3px 1px rgba(0, 0, 0, 0.15);\n",
              "      filter: drop-shadow(0px 1px 2px rgba(0, 0, 0, 0.3));\n",
              "      fill: #FFFFFF;\n",
              "    }\n",
              "  </style>\n",
              "\n",
              "      <script>\n",
              "        const buttonEl =\n",
              "          document.querySelector('#df-4b57f64a-8bc5-4701-9039-b17fee90f610 button.colab-df-convert');\n",
              "        buttonEl.style.display =\n",
              "          google.colab.kernel.accessAllowed ? 'block' : 'none';\n",
              "\n",
              "        async function convertToInteractive(key) {\n",
              "          const element = document.querySelector('#df-4b57f64a-8bc5-4701-9039-b17fee90f610');\n",
              "          const dataTable =\n",
              "            await google.colab.kernel.invokeFunction('convertToInteractive',\n",
              "                                                     [key], {});\n",
              "          if (!dataTable) return;\n",
              "\n",
              "          const docLinkHtml = 'Like what you see? Visit the ' +\n",
              "            '<a target=\"_blank\" href=https://colab.research.google.com/notebooks/data_table.ipynb>data table notebook</a>'\n",
              "            + ' to learn more about interactive tables.';\n",
              "          element.innerHTML = '';\n",
              "          dataTable['output_type'] = 'display_data';\n",
              "          await google.colab.output.renderOutput(dataTable, element);\n",
              "          const docLink = document.createElement('div');\n",
              "          docLink.innerHTML = docLinkHtml;\n",
              "          element.appendChild(docLink);\n",
              "        }\n",
              "      </script>\n",
              "    </div>\n",
              "  </div>\n",
              "  "
            ]
          },
          "metadata": {},
          "execution_count": 42
        }
      ]
    },
    {
      "cell_type": "code",
      "source": [
        "# sklearn 이용\n",
        "from sklearn.feature_extraction.text import CountVectorizer\n",
        "\n",
        "vector = CountVectorizer()\n",
        "\n",
        "print(vector.fit_transform(docs).toarray())\n",
        "print(sorted(vector.vocabulary_.items()))"
      ],
      "metadata": {
        "colab": {
          "base_uri": "https://localhost:8080/"
        },
        "id": "is4d_0apJbsT",
        "outputId": "f3ceb70b-d0a7-4ca3-dd10-08c3a4c4171e"
      },
      "execution_count": 57,
      "outputs": [
        {
          "output_type": "stream",
          "name": "stdout",
          "text": [
            "[[0 0 0 1 0 1 1 0 0]\n",
            " [0 0 0 1 1 0 1 0 0]\n",
            " [0 1 1 0 2 0 0 0 0]\n",
            " [1 0 0 0 0 0 0 1 1]]\n",
            "[('과일이', 0), ('길고', 1), ('노란', 2), ('먹고', 3), ('바나나', 4), ('사과', 5), ('싶은', 6), ('저는', 7), ('좋아요', 8)]\n"
          ]
        }
      ]
    },
    {
      "cell_type": "code",
      "source": [
        "sorted(vector.vocabulary_.items())"
      ],
      "metadata": {
        "colab": {
          "base_uri": "https://localhost:8080/"
        },
        "id": "CkbcPBFFLRu0",
        "outputId": "3f710b88-7d7b-4ee5-e1ad-539ced0a5463"
      },
      "execution_count": 52,
      "outputs": [
        {
          "output_type": "execute_result",
          "data": {
            "text/plain": [
              "[('do', 0),\n",
              " ('know', 1),\n",
              " ('like', 2),\n",
              " ('love', 3),\n",
              " ('should', 4),\n",
              " ('want', 5),\n",
              " ('what', 6),\n",
              " ('you', 7),\n",
              " ('your', 8)]"
            ]
          },
          "metadata": {},
          "execution_count": 52
        }
      ]
    },
    {
      "cell_type": "code",
      "source": [
        "from sklearn.feature_extraction.text import TfidfVectorizer\n",
        "vector = TfidfVectorizer()\n",
        "\n",
        "print(vector.fit_transform(docs).toarray())\n",
        "print(sorted(vector.vocabulary_.items()))"
      ],
      "metadata": {
        "colab": {
          "base_uri": "https://localhost:8080/"
        },
        "id": "BcuT3uGvLu9g",
        "outputId": "464db602-af99-4775-f3b4-da92856ebca3"
      },
      "execution_count": 58,
      "outputs": [
        {
          "output_type": "stream",
          "name": "stdout",
          "text": [
            "[[0.         0.         0.         0.52640543 0.         0.66767854\n",
            "  0.52640543 0.         0.        ]\n",
            " [0.         0.         0.         0.57735027 0.57735027 0.\n",
            "  0.57735027 0.         0.        ]\n",
            " [0.         0.47212003 0.47212003 0.         0.7444497  0.\n",
            "  0.         0.         0.        ]\n",
            " [0.57735027 0.         0.         0.         0.         0.\n",
            "  0.         0.57735027 0.57735027]]\n",
            "[('과일이', 0), ('길고', 1), ('노란', 2), ('먹고', 3), ('바나나', 4), ('사과', 5), ('싶은', 6), ('저는', 7), ('좋아요', 8)]\n"
          ]
        }
      ]
    }
  ]
}